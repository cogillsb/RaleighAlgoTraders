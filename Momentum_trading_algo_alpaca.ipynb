{
 "cells": [
  {
   "cell_type": "markdown",
   "metadata": {},
   "source": [
    "# Momentum Trading Algo w Aplaca"
   ]
  },
  {
   "cell_type": "markdown",
   "metadata": {},
   "source": [
    "\n",
    "\n",
    "    "
   ]
  },
  {
   "cell_type": "markdown",
   "metadata": {},
   "source": [
    "I am adapting this from a pretty lengthy script.I want to put the infrastructure in place to quickly replace and build a lot of these. That means splitting up into muttiple classes and really good documentation. Pulling it in from the article at https://medium.com/automation-generation/build-a-day-trading-algorithm-and-run-it-in-the-cloud-for-free-805450150668."
   ]
  },
  {
   "cell_type": "markdown",
   "metadata": {},
   "source": [
    "## Setup environment"
   ]
  },
  {
   "cell_type": "markdown",
   "metadata": {},
   "source": [
    "1. Install python 3\n",
    "2. Setup virtual environment\n",
    "We do this to minimize crosstalk between packages and to have a dedicated trading environment. Create the environment with this command.<br />\n",
    "**py -m venv trading_env**<br />\n",
    "A folder called trading_env should have been created in your directory. To activate the environment:\n",
    "**trading_env/Scripts/activate.bat**\n",
    "Install alpaca trading api:<br />\n",
    "**pip install alpaca_trade_api**<br/>\n",
    "Additionally, we are using the technical analysis library. I had to install this from a wheel.Make sure to use appropriate wheel for os and py vershion.<br/>\n",
    "**!pip install TA_Lib-0.4.18-cp36-cp36m-win_amd64.whl**\n"
   ]
  },
  {
   "cell_type": "markdown",
   "metadata": {},
   "source": [
    "## How to run"
   ]
  },
  {
   "cell_type": "markdown",
   "metadata": {},
   "source": [
    "Run daily via scheduled event on either server or local machine.\n",
    "\n",
    "Windows 10 task scheduler tutorial:<br />\n",
    "https://www.digitalcitizen.life/how-create-task-basic-task-wizard\n",
    "\n",
    "Heroku with Django Background:<br />\n",
    "https://www.freecodecamp.org/news/scheduling-jobs-in-a-django-application-using-heroku-scheduler-13c971a22979/#:~:text=To%20schedule%20a%20frequency%20and,size%2C%20and%20next%20run%20time.\n",
    "\n",
    "Mac?\n",
    "\n",
    "General Command line (not automated):<br />\n",
    "**python run_mom_algo.py**"
   ]
  },
  {
   "cell_type": "markdown",
   "metadata": {},
   "source": [
    "## Imports"
   ]
  },
  {
   "cell_type": "code",
   "execution_count": 19,
   "metadata": {},
   "outputs": [],
   "source": [
    "import config\n",
    "import alpaca_trade_api as tradeapi\n",
    "from datetime import datetime, timedelta\n",
    "from pytz import timezone\n",
    "import talib as ta"
   ]
  },
  {
   "cell_type": "markdown",
   "metadata": {},
   "source": [
    "## Connecting to alpaca"
   ]
  },
  {
   "cell_type": "markdown",
   "metadata": {},
   "source": [
    "1. Sign up for alpaca.<br />\n",
    "You can sign up for a free paper trading account.<br />\n",
    "**paper trading:** Trading without using real money to test a given strategy. Will not be completely accurate, but will provide good approximation of potential performance.<br />\n",
    "**However**, to access the data stream, you will need to have an active account with some money in it. But there is no minimum. <br />\n",
    "Alpaca in a nutshell: A free trading platform (no fees on trades). They make their money off a 3% pull annually from your active account. <br />\n",
    "\n",
    "2. Create a file in your local directory called **config.py**<br/>\n",
    "This is to protect your information in case you want to share your code. If using git make sure to add to your git ignore file.\n"
   ]
  },
  {
   "cell_type": "code",
   "execution_count": null,
   "metadata": {},
   "outputs": [],
   "source": [
    "#What to put in config file\n",
    "api_secret = '<your api_secret_key>'\n",
    "#base url should be the paper trading url\n",
    "base_url = \"https://paper-api.alpaca.markets\"\n",
    "api_key_id = '<your api_key_id>'\n"
   ]
  },
  {
   "cell_type": "markdown",
   "metadata": {},
   "source": [
    "To call the variables just import the config file and refer to them as conf.your_variable."
   ]
  },
  {
   "cell_type": "code",
   "execution_count": 20,
   "metadata": {},
   "outputs": [],
   "source": [
    "class Account():\n",
    "    def __init__(self):\n",
    "        #Initialize connection\n",
    "        self.api = tradeapi.REST(config.api_key_id, \n",
    "              config.api_secret,\n",
    "              config.base_url,\n",
    "              api_version='v2')\n",
    "        \n",
    "        self.portfolio_value = float(self.api.get_account().portfolio_value)\n",
    "        self.open_orders = {}"
   ]
  },
  {
   "cell_type": "markdown",
   "metadata": {},
   "source": [
    "## Get the state of the current market"
   ]
  },
  {
   "cell_type": "code",
   "execution_count": null,
   "metadata": {},
   "outputs": [],
   "source": [
    "class MarketState():\n",
    "    '''Pulling current market data within \n",
    "    given constraints. Designed to work with\n",
    "    trading algorithm'''\n",
    "    \n",
    "    def __init__(self, api, momentum=3.5,\n",
    "                 max_share_price=13.0,\n",
    "                 min_share_price=2.0,\n",
    "                 min_last_dv=500000,\n",
    "                 default_stop=.95):\n",
    "        self.api = api\n",
    "        self.momentum = momentum\n",
    "        self.max_share_price = max_share_price\n",
    "        self.min_share_price = min_share_price\n",
    "        self.min_last_dv = min_last_dv\n",
    "        self.default_stop = default_stop                \n",
    "        self.market_open, self.market_close = self.set_market_time_period()\n",
    "        self.tickers = self.get_tickers()\n",
    "        self.symbols = [ticker.ticker for ticker in self.tickers]\n",
    "        self.minute_history = self.get_1000m_history_data()\n",
    "        self.ticker_dat = self.get_ticker_dat()\n",
    "        \n",
    "        \n",
    "    def set_market_time_period(self):\n",
    "        '''\n",
    "        Get when the market opens or opened today\n",
    "        '''\n",
    "        nyc = timezone('America/New_York')\n",
    "        today = datetime.today().astimezone(nyc)\n",
    "        today_str = datetime.today().astimezone(nyc).strftime('%Y-%m-%d')\n",
    "        calendar = self.api.get_calendar(start=today_str, end=today_str)[0]\n",
    "        market_open = today.replace(\n",
    "            hour=calendar.open.hour,\n",
    "            minute=calendar.open.minute,\n",
    "            second=0\n",
    "        )\n",
    "        market_open = market_open.astimezone(nyc)\n",
    "        market_close = today.replace(\n",
    "            hour=calendar.close.hour,\n",
    "            minute=calendar.close.minute,\n",
    "            second=0\n",
    "        )\n",
    "        market_close = market_close.astimezone(nyc)\n",
    "        return market_open, market_close\n",
    "        \n",
    "    def get_tickers(self):\n",
    "        '''Retrieve ticker data within constraints'''        \n",
    "        tickers = self.api.polygon.all_tickers()\n",
    "        assets = self.api.list_assets()\n",
    "        symbols = [asset.symbol for asset in assets if asset.tradable]\n",
    "        \n",
    "        cur_tickers = []\n",
    "        \n",
    "        for t in tickers:\n",
    "            if (t.ticker in symbols and\n",
    "                t.lastTrade['p'] >= self.min_share_price and\n",
    "                t.lastTrade['p'] <= self.max_share_price and\n",
    "                t.prevDay['v'] * t.lastTrade['p'] > self.min_last_dv and\n",
    "                t.todaysChangePerc >= self.momentum):\n",
    "                cur_tickers.append(t)\n",
    "        \n",
    "        return cur_tickers\n",
    "    \n",
    "    def get_1000m_history_data(self):\n",
    "        '''\n",
    "        Get the history for each stock in dataframe\n",
    "        '''\n",
    "        minute_history = {}\n",
    "        c = 0\n",
    "        stop = datetime.today().strftime('%Y-%m-%d')\n",
    "        start = (datetime.today()- timedelta(days=7)).strftime('%Y-%m-%d')\n",
    "        for t in self.tickers:\n",
    "            minute_history[t.ticker] = self.api.polygon.historic_agg_v2(\n",
    "                t.ticker, 1, 'minute', _from=start, to=stop\n",
    "            ).df.tail(1000)\n",
    "            c += 1\n",
    "\n",
    "        return minute_history\n",
    "    \n",
    "    def get_ticker_dat(self):\n",
    "        '''\n",
    "        Storing volume, previous close, and 15 min high in \n",
    "        accessible dict\n",
    "        '''\n",
    "        # Update initial state with information from tickers\n",
    "        ticker_dat = {}\n",
    "        for ticker in self.tickers:           \n",
    "            ticker_dat[ticker.ticker] = {\n",
    "                'p_close': ticker.prevDay['c'],\n",
    "                'volume': ticker.day['v'], \n",
    "                '15m_high': self.minute_history[ticker.ticker][self.market_open:self.market_open+timedelta(minues=15)]['high'].max()\n",
    "            }\n",
    "\n",
    "        return ticker_dat \n",
    "            \n",
    "    def update_table(self, data):\n",
    "        '''\n",
    "        Find the most recent minute count and update highs and lows\n",
    "        if needed\n",
    "        '''\n",
    "        # First, aggregate 1s bars for up-to-date MACD calculations\n",
    "        ts = data.start-timedelta(seconds=data.start.second, microseconds=data.start.microsecond)\n",
    "        \n",
    "        try:\n",
    "            current = self.minute_history[data.symbol].loc[ts]\n",
    "            self.minute_history[data.symbol].loc[ts] = [\n",
    "                current.open,\n",
    "                data.high if data.high > current.high else current.high,\n",
    "                data.low if data.low < current.low else current.low,\n",
    "                data.close,\n",
    "                current.volume + data.volume\n",
    "            ]\n",
    "        except KeyError:\n",
    "            self.minute_history[data.symbol].loc[ts] = [\n",
    "                data.open,\n",
    "                data.high,\n",
    "                data.low,\n",
    "                data.close,\n",
    "                data.volume\n",
    "            ]"
   ]
  },
  {
   "cell_type": "markdown",
   "metadata": {},
   "source": [
    "Pulled out some of the code into a class for ease of use. Some of the strategy is in here, but will try to move that out later. First need to check if market is open."
   ]
  },
  {
   "cell_type": "code",
   "execution_count": null,
   "metadata": {},
   "outputs": [],
   "source": [
    "ms = MarketState(acc.api)"
   ]
  },
  {
   "cell_type": "markdown",
   "metadata": {},
   "source": [
    "## Build  a controller"
   ]
  },
  {
   "cell_type": "markdown",
   "metadata": {},
   "source": [
    "A lot of the methods used to act on the market are kind of overlapping so pull all of these out to a class controller object. "
   ]
  },
  {
   "cell_type": "code",
   "execution_count": null,
   "metadata": {},
   "outputs": [],
   "source": [
    "class Controller():\n",
    "    def __init__(self, account, market_state):\n",
    "        #Initialize connection\n",
    "        self.account = account\n",
    "        self.market_state = market_state\n",
    "        self.positions = self.get_positions()\n",
    "        self.open_orders = {}\n",
    "        self.partial_fills = {}\n",
    "    \n",
    "    def cancel_existing(self):    \n",
    "        # Cancel any existing open orders on watched symbols\n",
    "        existing_orders = self.account.api.list_orders(limit=500)\n",
    "        for order in existing_orders:\n",
    "            if order.symbol in self.market_state.symbols:\n",
    "                self.api.cancel_order(order.id)\n",
    "                \n",
    "    def get_positions(self):\n",
    "        '''\n",
    "        Get current positions for stocks we are watching to be \n",
    "        updated during the run. \n",
    "        '''\n",
    "        pos = {}        \n",
    "        for p in [x for x in self.account.api.list_positions() if x in self.market_state.symbols ]:\n",
    "            pos[p.symbol] = {\n",
    "                        'qty' : float(p.qty),\n",
    "                        'lcb' : float(p.cost_basis)\n",
    "                    }\n",
    "\n",
    "        return pos\n",
    "            \n",
    "    def handle_trade_update(self, data):\n",
    "        '''\n",
    "        Updating the open orders and position quantities\n",
    "        '''\n",
    "        if data.order['symbol'] in self.open_orders.keys():\n",
    "            mv = -1 if data.order['side']=='sell' else 1\n",
    "            if data.event in ['canceled', 'rejected']:\n",
    "                self.open_orders[data.order['symbol']] = None\n",
    "            else:                \n",
    "                self.positions[data.order['symbol']]['qty'] += (mv * int(data.order['filled_qty']))\n",
    "                self.open_orders[data.order['symbol']] = None if data.event=='fill' else data.order\n",
    "            \n",
    "            if self.positions[data.order['symbol']]['qty'] == 0: \n",
    "                del self.positions[data.order['symbol']]\n",
    "            \n",
    "    def cancel_old_orders(self, data, duration):\n",
    "        '''\n",
    "        Cancel existing orders and return bool on \n",
    "        continuing. \n",
    "        '''\n",
    "        if data.order['symbol'] in self.open_orders.keys():\n",
    "            order = self.open_orders[data.order['symbol']]\n",
    "            if (data.start-order.submitted_at.astimezone(timezone('America/New_York')))//duration >1:\n",
    "                self.account.api.cancel_order(order.id)\n",
    "            return True\n",
    "        return False\n",
    "    \n",
    "    \n",
    "    def buy_order(self, data, shares):\n",
    "        print('Submitting buy for {} shares of {} at {}'.format(shares, data.symbol, data.close))\n",
    "        try:\n",
    "            o = self.account.api.submit_order(\n",
    "                symbol=data.symbol, qty=str(shares), side='buy',\n",
    "                type='limit', time_in_force='day',\n",
    "                limit_price=str(data.close)\n",
    "            )\n",
    "            self.positions[data.symbol] = {\n",
    "                #qty will fill with order\n",
    "                'qty' : 0,\n",
    "                'lcb' : data.close\n",
    "            }\n",
    "            self.open_orders[data.symbol] = o           \n",
    "        except Exception as e:\n",
    "            print(e)\n",
    "            \n",
    "    def sell_order(self, data, typ):\n",
    "        shares = self.positions[data.symbol]['qty']\n",
    "        print('Submitting sell for {} shares of {} at {}'.format(shares, data.symbol, data.close))\n",
    "        try:\n",
    "            o = self.account.api.submit_order(\n",
    "                symbol=data.symbol, qty=str(shares), side='sell',\n",
    "                type=typ, time_in_force='day',\n",
    "                limit_price=str(data.close)\n",
    "            )\n",
    "            self.open_orders[data.symbol] = o\n",
    "        except Exception as e:\n",
    "            print(e)"
   ]
  },
  {
   "cell_type": "code",
   "execution_count": null,
   "metadata": {},
   "outputs": [],
   "source": [
    "cnt = Controller(acc, ms)"
   ]
  },
  {
   "cell_type": "markdown",
   "metadata": {},
   "source": [
    "## Bring it all together."
   ]
  },
  {
   "cell_type": "markdown",
   "metadata": {},
   "source": [
    "I am implementing a really simple strategy here. We are connecting to the trade update to see what has gone through in completed transactions, a minute by minute update of prices, and we are looking at a by the second update in the A channel. The A channel is where the strategy is being implemented. First, any stale orders are cleared and all positions are cleared at the end of the day. Second, I use the MACD indicator to find upward trends for buying high volume stocks. "
   ]
  },
  {
   "cell_type": "code",
   "execution_count": null,
   "metadata": {},
   "outputs": [],
   "source": [
    "# Establish streaming connection\n",
    "conn = tradeapi.StreamConn(base_url=config.base_url, key_id=config.api_key_id, secret_key=config.api_secret)\n",
    "cnt.cancel_existing()    \n",
    "\n",
    "# Use trade updates to keep track of our portfolio\n",
    "@conn.on(r'trade_update')\n",
    "async def handle_trade_update(conn, channel, data):\n",
    "    cnt.handle_trade_update(data)\n",
    "\n",
    "# Replace aggregated 1s bars with incoming 1m bars\n",
    "@conn.on(r'AM$')\n",
    "async def handle_minute_bar(conn, channel, data):\n",
    "    ms.update_table(data)\n",
    "\n",
    "@conn.on(r'A$')\n",
    "async def handle_second_bar(conn, channel, data):\n",
    "    '''\n",
    "    Handling the up to the second data feed \n",
    "    from polygon stream for a specific\n",
    "    equity\n",
    "    '''\n",
    "    #Update our table\n",
    "    ms.update_table(data)\n",
    "    #check for cancel signals\n",
    "    if cnt.cancel_old_orders(data, 60):\n",
    "        return\n",
    "\n",
    "    #Strat starts here\n",
    "    #Day trading part\n",
    "    #Clear positions on closing of trading day\n",
    "    if (ms.market_close - data.start) // 60 <= 15:\n",
    "        #Clear out all of our positions\n",
    "        if data.order['symbol'] in cnt.positions.keys():\n",
    "            cnt.sell_order(data, 'market')\n",
    "        conn.deregister(['A.{}'.format(data.symbol),'AM.{}'.format(data.symbol)])\n",
    "\n",
    "    else:\n",
    "        #Check for buy or sell conditions\n",
    "        #Indicators\n",
    "        #How much has the price changed since yesterday        \n",
    "        daily_pct_change = (data.close - ms.ticker_dat[data.symbol]['p_close']) / ms.ticker_dat[data.symbol]['p_close']\n",
    "        #Moving average convergence divergence\n",
    "        cls = ms.minute_history[data.symbol]['close'].dropna()\n",
    "        macd, macdsignal, macdhist = ta.MACD(cls, 12, 26, 9)\n",
    "        macd_trnd = True if macdsignal[-1] > macd[-1] else False\n",
    "\n",
    "        if data.symbol in cnt.positions.keys():    \n",
    "            #Check for sale\n",
    "            stop_price = cnt.positions[data.symbol]['lcb'] * ms.default_stop\n",
    "            target_price =  data.close + ((data.close - stop_price) * 3)\n",
    "            if(data.close <= stop_price or (data.close >= target_price and not macd_trnd)):\n",
    "                cnt.sell_order(data, 'limit')\n",
    "        else:\n",
    "            #check for buy\n",
    "            if (daily_pct_change > .04 and\n",
    "                data.close > ms.ticker_dat[data.symbol]['15m_high'] and\n",
    "                ms.ticker_dat[data.symbol]['volume'] > 30000 and\n",
    "                macd_trnd):\n",
    "                #Buy\n",
    "                shares_to_buy = acc.portfolio_value * ms.risk // (data.close-(data.close * ms.default_stop))\n",
    "                cnt.buy_order(data, shares_to_buy)\n",
    "\n",
    "#Run in schedule for 15 minutes into trading\n",
    "channels = ['trade_updates']\n",
    "for symbol in ms.symbols:\n",
    "    symbol_channels = ['A.{}'.format(symbol), 'AM.{}'.format(symbol)]\n",
    "    channels += symbol_channels\n",
    "\n",
    "conn.run(channels)"
   ]
  }
 ],
 "metadata": {
  "kernelspec": {
   "display_name": "Python 3",
   "language": "python",
   "name": "python3"
  },
  "language_info": {
   "codemirror_mode": {
    "name": "ipython",
    "version": 3
   },
   "file_extension": ".py",
   "mimetype": "text/x-python",
   "name": "python",
   "nbconvert_exporter": "python",
   "pygments_lexer": "ipython3",
   "version": "3.6.8"
  }
 },
 "nbformat": 4,
 "nbformat_minor": 2
}
